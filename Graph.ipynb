{
 "cells": [
  {
   "cell_type": "markdown",
   "id": "70732b6c",
   "metadata": {},
   "source": [
    "# Our Firts LangGraph graph!"
   ]
  },
  {
   "cell_type": "markdown",
   "id": "719c6669",
   "metadata": {},
   "source": [
    "Risorse [qui](https://github.com/iamvaibhavmehra/LangGraph-Course-freeCodeCamp)\n",
    "\n",
    "Insegnante [Vaibhav Mehra](https://www.linkedin.com/in/vaibhav-mehra-main/)"
   ]
  },
  {
   "cell_type": "code",
   "execution_count": 4,
   "id": "b16cb7c4",
   "metadata": {},
   "outputs": [],
   "source": [
    "from typing import Dict, TypedDict\n",
    "from langgraph.graph import StateGraph"
   ]
  },
  {
   "cell_type": "code",
   "execution_count": null,
   "id": "f46eda2c",
   "metadata": {},
   "outputs": [],
   "source": [
    "# Agent state . Shared data structure that keeps track of information as your application runs.\n",
    "class AgentState(TypedDict): # Our State Schema\n",
    "    \"\"\"\n",
    "    Agent state that is shared across the graph.\n",
    "    \"\"\"\n",
    "    message: str\n",
    "\n",
    "def greeting_node(state: AgentState) -> AgentState:\n",
    "    \"\"\"\n",
    "    Simple node that adds a greeting message to the state.\n",
    "    \"\"\"\n",
    "    \n",
    "    state['message'] = \"Hey\" + state['message'] + \", how is your day going?\"\n",
    "    return state"
   ]
  },
  {
   "cell_type": "code",
   "execution_count": 8,
   "id": "e8c8fb06",
   "metadata": {},
   "outputs": [],
   "source": [
    "graph = StateGraph(AgentState)\n",
    "\n",
    "graph.add_node(\n",
    "    \"greeter\", # node name\n",
    "    greeting_node, # action function\n",
    ")\n",
    "\n",
    "graph.set_entry_point(\"greeter\")  # Set the entry point of the graph\n",
    "graph.set_finish_point(\"greeter\")  # Set the finish point of the graph\n",
    "\n",
    "app = graph.compile()  # Compile the graph"
   ]
  },
  {
   "cell_type": "code",
   "execution_count": 9,
   "id": "5256b69d",
   "metadata": {},
   "outputs": [
    {
     "data": {
      "image/png": "[encoded data removed]",
      "text/plain": [
       "<IPython.core.display.Image object>"
      ]
     },
     "metadata": {},
     "output_type": "display_data"
    }
   ],
   "source": [
    "from IPython.display import Image, display\n",
    "display(Image(app.get_graph().draw_mermaid_png()))  # Display the graph image"
   ]
  },
  {
   "cell_type": "code",
   "execution_count": 10,
   "id": "4a812061",
   "metadata": {},
   "outputs": [],
   "source": [
    "result = app.invoke({\"message\": \" John\"})  # Invoke the graph with initial state\n"
   ]
  },
  {
   "cell_type": "code",
   "execution_count": 11,
   "id": "a5088ddf",
   "metadata": {},
   "outputs": [
    {
     "data": {
      "text/plain": [
       "'Hey John, how is your day going?'"
      ]
     },
     "execution_count": 11,
     "metadata": {},
     "output_type": "execute_result"
    }
   ],
   "source": [
    "result[\"message\"]"
   ]
  },
  {
   "cell_type": "markdown",
   "id": "58b15886",
   "metadata": {},
   "source": [
    "## Exercise \n",
    "Create e Personlized Compliment Agent using LangGraph.\n",
    "\n",
    "`Input :{\"name\": \"Bob\"}\n",
    "Output: \"Bob, you're doing an amazing job learning LangGraph!\"`\n"
   ]
  },
  {
   "cell_type": "code",
   "execution_count": 13,
   "id": "5dfedf76",
   "metadata": {},
   "outputs": [],
   "source": [
    "# Agent state . Shared data structure that keeps track of information as your application runs.\n",
    "class AgentStateBis(TypedDict): # Our State Schema\n",
    "    \"\"\"\n",
    "    Agent state that is shared across the graph.\n",
    "    \"\"\"\n",
    "    message: str\n",
    "\n",
    "def compliment_node(state: AgentState) -> AgentState:\n",
    "    \"\"\"\n",
    "    Simple node that adds a compliment message to the state.\n",
    "    \"\"\"\n",
    "    \n",
    "    state['message'] = state['message'] + \", you are doing an amazing job learning LangGraph!\"\n",
    "    return state"
   ]
  },
  {
   "cell_type": "code",
   "execution_count": 14,
   "id": "2ca9d3f5",
   "metadata": {},
   "outputs": [],
   "source": [
    "graph = StateGraph(AgentState)\n",
    "\n",
    "graph.add_node(\n",
    "    \"complimenter\", # node name\n",
    "    compliment_node, # action function\n",
    ")\n",
    "\n",
    "graph.set_entry_point(\"complimenter\")  # Set the entry point of the graph\n",
    "graph.set_finish_point(\"complimenter\")  # Set the finish point of the graph\n",
    "\n",
    "app = graph.compile()  # Compile the graph"
   ]
  },
  {
   "cell_type": "code",
   "execution_count": 15,
   "id": "d64e55d1",
   "metadata": {},
   "outputs": [
    {
     "data": {
      "image/png": "[encoded data removed]",
      "text/plain": [
       "<IPython.core.display.Image object>"
      ]
     },
     "metadata": {},
     "output_type": "display_data"
    }
   ],
   "source": [
    "from IPython.display import Image, display\n",
    "display(Image(app.get_graph().draw_mermaid_png()))  # Display the graph image"
   ]
  },
  {
   "cell_type": "code",
   "execution_count": 17,
   "id": "a219deb4",
   "metadata": {},
   "outputs": [
    {
     "data": {
      "text/plain": [
       "'Bob, you are doing an amazing job learning LangGraph!'"
      ]
     },
     "execution_count": 17,
     "metadata": {},
     "output_type": "execute_result"
    }
   ],
   "source": [
    "result = app.invoke({\"message\": \"Bob\"})  # Invoke the graph with initial state\n",
    "result[\"message\"]"
   ]
  },
  {
   "cell_type": "markdown",
   "id": "cce56ee0",
   "metadata": {},
   "source": [
    "## Graph with multiple inputs\n",
    "- Define a more complex `AgentState`\n",
    "- Create a processing node that performs operation on list data.\n",
    "- Set up a `LangGraph` that processes and outputs computed results.\n",
    "- Invoce the graph with structured inputs and retrieve outputs."
   ]
  },
  {
   "cell_type": "code",
   "execution_count": 18,
   "id": "55397787",
   "metadata": {},
   "outputs": [],
   "source": [
    "from typing import TypedDict, List\n",
    "from langgraph.graph import StateGraph"
   ]
  },
  {
   "cell_type": "code",
   "execution_count": 19,
   "id": "ef95349f",
   "metadata": {},
   "outputs": [],
   "source": [
    "# State Schema\n",
    "class AgentState(TypedDict):\n",
    "    \"\"\"\n",
    "    Agent state that is shared across the graph.\n",
    "    \"\"\"\n",
    "    values: List[int]\n",
    "    name: str\n",
    "    result: str"
   ]
  },
  {
   "cell_type": "code",
   "execution_count": 39,
   "id": "fda9ab74",
   "metadata": {},
   "outputs": [],
   "source": [
    "def process_values(state: AgentState) -> AgentState:\n",
    "    \"\"\"This function handles multiple different inputs\"\"\"\n",
    "    print(state)\n",
    "\n",
    "    state['result'] = f\"Hi there {state['name']}! your sum = {sum(state['values'])}\"\n",
    "    print(state)\n",
    "    return state"
   ]
  },
  {
   "cell_type": "code",
   "execution_count": 40,
   "id": "66c8a5ec",
   "metadata": {},
   "outputs": [],
   "source": [
    "graph = StateGraph(AgentState)\n",
    "\n",
    "graph.add_node(\n",
    "    \"processor\",  # node name\n",
    "    process_values,  # action function\n",
    ")\n",
    "graph.set_entry_point(\"processor\")  # Set the entry point of the graph\n",
    "graph.set_finish_point(\"processor\")  # Set the finish point of the graph\n",
    "app = graph.compile()  # Compile the graph"
   ]
  },
  {
   "cell_type": "code",
   "execution_count": 41,
   "id": "218a4910",
   "metadata": {},
   "outputs": [
    {
     "data": {
      "image/png": "[encoded data removed]",
      "text/plain": [
       "<IPython.core.display.Image object>"
      ]
     },
     "metadata": {},
     "output_type": "display_data"
    }
   ],
   "source": [
    "from IPython.display import Image, display\n",
    "display(Image(app.get_graph().draw_mermaid_png()))  # Display the graph image"
   ]
  },
  {
   "cell_type": "code",
   "execution_count": 42,
   "id": "8b1913b1",
   "metadata": {},
   "outputs": [
    {
     "name": "stdout",
     "output_type": "stream",
     "text": [
      "{'values': [1, 2, 3, 4, 5], 'name': 'Alice'}\n",
      "{'values': [1, 2, 3, 4, 5], 'name': 'Alice', 'result': 'Hi there Alice! your sum = 15'}\n"
     ]
    }
   ],
   "source": [
    "response = app.invoke({\n",
    "    \"values\": [1, 2, 3, 4, 5],\n",
    "    \"name\": \"Alice\"\n",
    "})  # Invoke the graph with initial state\n"
   ]
  },
  {
   "cell_type": "code",
   "execution_count": 43,
   "id": "1716e2df",
   "metadata": {},
   "outputs": [
    {
     "data": {
      "text/plain": [
       "{'values': [1, 2, 3, 4, 5],\n",
       " 'name': 'Alice',\n",
       " 'result': 'Hi there Alice! your sum = 15'}"
      ]
     },
     "execution_count": 43,
     "metadata": {},
     "output_type": "execute_result"
    }
   ],
   "source": [
    "response"
   ]
  },
  {
   "cell_type": "code",
   "execution_count": 44,
   "id": "9c2a81c2",
   "metadata": {},
   "outputs": [
    {
     "data": {
      "text/plain": [
       "'Hi there Alice! your sum = 15'"
      ]
     },
     "execution_count": 44,
     "metadata": {},
     "output_type": "execute_result"
    }
   ],
   "source": [
    "response['result']  # Access the result from the state"
   ]
  },
  {
   "cell_type": "markdown",
   "id": "1202ccaf",
   "metadata": {},
   "source": [
    "## Exercise 2\n",
    "\n",
    "Create a Graph where you pass in asingle list of integers along with a name and an operazione. If the operation is a \"+\", you add the element and if is a \"*\", you multiply the lements, all within the same node.\n",
    "\n",
    "Intput: {\"name\":\"Jack Sparrow\", \"values\":[1,2,3,4], \"operation\": \"*\"}\n",
    "Output: \"Hi Jack Sparrow, your answer is 24\""
   ]
  },
  {
   "cell_type": "code",
   "execution_count": 45,
   "id": "e586e541",
   "metadata": {},
   "outputs": [],
   "source": [
    "from typing import TypedDict, List\n",
    "from langgraph.graph import StateGraph\n",
    "# State Schema\n",
    "\n",
    "class AgentState(TypedDict):\n",
    "    \"\"\"\n",
    "    Agent state that is shared across the graph.\n",
    "    \"\"\"\n",
    "    values: List[int]\n",
    "    name: str\n",
    "    operator: str\n",
    "    result: str"
   ]
  },
  {
   "cell_type": "code",
   "execution_count": 57,
   "id": "d8b491b6",
   "metadata": {},
   "outputs": [],
   "source": [
    "def process_values(state: AgentState) -> AgentState:\n",
    "    \"\"\"This function handles multiple different inputs and performs an operation based on the operator.\"\"\"\n",
    "\n",
    "    if state['operator'] == '+':\n",
    "        state['result'] = f\"Hi {state['name']}, your answer is {sum(state['values'])}\"\n",
    "    elif state['operator'] == '*':\n",
    "        from math import prod \n",
    "        state['result'] = f\"Hi {state['name']}, your answer is {prod(state['values'])}\"\n",
    "    return state"
   ]
  },
  {
   "cell_type": "code",
   "execution_count": 58,
   "id": "5aef2f09",
   "metadata": {},
   "outputs": [],
   "source": [
    "graph = StateGraph(AgentState)\n",
    "graph.add_node(\n",
    "    \"processor\",  # node name\n",
    "    process_values,  # action function\n",
    ")\n",
    "graph.set_entry_point(\"processor\")  # Set the entry point of the graph\n",
    "graph.set_finish_point(\"processor\")  # Set the finish point of the graph\n",
    "app = graph.compile()  # Compile the graph\n"
   ]
  },
  {
   "cell_type": "code",
   "execution_count": 59,
   "id": "277bb453",
   "metadata": {},
   "outputs": [
    {
     "data": {
      "image/png": "[encoded data removed]",
      "text/plain": [
       "<IPython.core.display.Image object>"
      ]
     },
     "metadata": {},
     "output_type": "display_data"
    }
   ],
   "source": [
    "from IPython.display import Image, display\n",
    "display(Image(app.get_graph().draw_mermaid_png()))  # Display the graph image"
   ]
  },
  {
   "cell_type": "code",
   "execution_count": 60,
   "id": "413ddee4",
   "metadata": {},
   "outputs": [],
   "source": [
    "answer = app.invoke({\n",
    "    \"values\": [1, 2, 3, 4, 5],\n",
    "    \"name\": \"Alice\",\n",
    "    \"operator\": \"+\"\n",
    "})  # Invoke the graph with initial state"
   ]
  },
  {
   "cell_type": "code",
   "execution_count": 61,
   "id": "316475cd",
   "metadata": {},
   "outputs": [
    {
     "data": {
      "text/plain": [
       "'Hi Alice, your answer is 15'"
      ]
     },
     "execution_count": 61,
     "metadata": {},
     "output_type": "execute_result"
    }
   ],
   "source": [
    "answer['result']  # Access the result from the state"
   ]
  },
  {
   "cell_type": "code",
   "execution_count": 62,
   "id": "5f14fa62",
   "metadata": {},
   "outputs": [],
   "source": [
    "answer = app.invoke({\n",
    "    \"values\": [1, 2, 3, 4, 5],\n",
    "    \"name\": \"Veronica\",\n",
    "    \"operator\": \"*\"\n",
    "})  # Invoke the graph with initial state"
   ]
  },
  {
   "cell_type": "code",
   "execution_count": 64,
   "id": "71891390",
   "metadata": {},
   "outputs": [
    {
     "data": {
      "text/plain": [
       "'Hi Veronica, your answer is 120'"
      ]
     },
     "execution_count": 64,
     "metadata": {},
     "output_type": "execute_result"
    }
   ],
   "source": [
    "answer['result']  # Access the result from the state"
   ]
  },
  {
   "cell_type": "markdown",
   "id": "1d43e8fd",
   "metadata": {},
   "source": [
    "## Sequentianl Graphs\n",
    "- Create multiple Nodes that sequentially process and update different parts of the state.\n",
    "- Connect Nodes together in a graph\n",
    "- Invoke the graph and see how the state is transformetd step by step"
   ]
  },
  {
   "cell_type": "code",
   "execution_count": 65,
   "id": "83b2ebe3",
   "metadata": {},
   "outputs": [],
   "source": [
    "from typing import TypedDict\n",
    "from langgraph.graph import StateGraph\n",
    "\n",
    "# State Schema\n",
    "class AgentState(TypedDict):\n",
    "    \"\"\"\n",
    "    Agent state that is shared across the graph.\n",
    "    \"\"\"\n",
    "    name: str\n",
    "    age: str\n",
    "    final: str"
   ]
  },
  {
   "cell_type": "code",
   "execution_count": 85,
   "id": "034d819a",
   "metadata": {},
   "outputs": [],
   "source": [
    "# Build our 2 action function\n",
    "\n",
    "def first_node(state: AgentState) -> AgentState:\n",
    "    \"\"\"\n",
    "    First node of our sequence.\n",
    "    \"\"\"\n",
    "    state['final'] = f\"Hi {state['name']}, \"\n",
    "    return state\n",
    "\n",
    "def second_node(state: AgentState) -> AgentState:\n",
    "    \"\"\"\n",
    "    Second node of our sequence.\n",
    "    \"\"\"\n",
    "    state['final'] = state['final'] + f\"You are {state['age']} years old!\"\n",
    "    return state"
   ]
  },
  {
   "cell_type": "code",
   "execution_count": 86,
   "id": "228b38fa",
   "metadata": {},
   "outputs": [],
   "source": [
    "graph = StateGraph(AgentState)\n",
    "\n",
    "graph.add_node(\n",
    "    \"first\",  # node name\n",
    "    first_node,  # action function\n",
    ")\n",
    "graph.add_node(\n",
    "    \"second\",  # node name\n",
    "    second_node,  # action function\n",
    ")\n",
    "\n",
    "graph.set_entry_point(\"first\")  # Set the entry point of the graph\n",
    "graph.add_edge(\"first\", \"second\")  # Add an edge from first to second node\n",
    "graph.set_finish_point(\"second\")  # Set the finish point of the graph\n",
    "app = graph.compile()  # Compile the graph\n",
    "\n",
    "\n"
   ]
  },
  {
   "cell_type": "code",
   "execution_count": 87,
   "id": "2ed47669",
   "metadata": {},
   "outputs": [
    {
     "data": {
      "image/png": "[encoded data removed]",
      "text/plain": [
       "<IPython.core.display.Image object>"
      ]
     },
     "metadata": {},
     "output_type": "display_data"
    }
   ],
   "source": [
    "from IPython.display import Image, display\n",
    "display(Image(app.get_graph().draw_mermaid_png()))  # Display the graph image"
   ]
  },
  {
   "cell_type": "code",
   "execution_count": 88,
   "id": "25ec6d9a",
   "metadata": {},
   "outputs": [],
   "source": [
    "answer = app.invoke({\"name\": \"Alice\", \"age\": \"30\"})  # Invoke the graph with initial state"
   ]
  },
  {
   "cell_type": "code",
   "execution_count": 89,
   "id": "c9b1eb45",
   "metadata": {},
   "outputs": [
    {
     "name": "stdout",
     "output_type": "stream",
     "text": [
      "{'name': 'Alice', 'age': '30', 'final': 'Hi Alice, You are 30 years old!'}\n"
     ]
    }
   ],
   "source": [
    "print(answer)  # Access the final message from the state"
   ]
  },
  {
   "cell_type": "markdown",
   "id": "63adee17",
   "metadata": {},
   "source": [
    "## Exercise\n",
    "- Accept a user's name, age and a list of their skills.\n",
    "- Pass the state throough 3 nodes that:\n",
    "    - First node: Personilized the name field with a greeting\n",
    "    - Second node: Describe the user's age\n",
    "    - Third node: LIst the user's skills in a formatted string\n",
    "- The final output in the result field should be a combined message in this format:\n",
    "\n",
    "**Output** \"Linda, welcome to the system! you are 31 years old! You have skills in: Python, Machine Learning and LangGraph\""
   ]
  },
  {
   "cell_type": "code",
   "execution_count": 3,
   "id": "295b18af",
   "metadata": {},
   "outputs": [],
   "source": [
    "from typing import TypedDict, List\n",
    "from langgraph.graph import StateGraph\n",
    "# State Schema\n",
    "class AgentState(TypedDict):\n",
    "    \"\"\"\n",
    "    Agent state that is shared across the graph.\n",
    "    \"\"\"\n",
    "    name: str\n",
    "    age: str\n",
    "    skills: List[str]\n",
    "    result: str"
   ]
  },
  {
   "cell_type": "code",
   "execution_count": 4,
   "id": "b3e7c2e2",
   "metadata": {},
   "outputs": [],
   "source": [
    "def greeting_node(state: AgentState) -> AgentState:\n",
    "    \"\"\"\n",
    "    Simple node that adds a greeting message to the state.\n",
    "    \"\"\"\n",
    "    state['result'] = f\"Hi {state['name']}\"\n",
    "    return state\n",
    "\n",
    "def age_node(state: AgentState) -> AgentState:\n",
    "    \"\"\"\n",
    "    Simple node that adds an age message to the state.\n",
    "    \"\"\"\n",
    "    state['result'] = state['result'] + f\", you are {state['age']} years old\"\n",
    "    return state\n",
    "\n",
    "def skills_node(state: AgentState) -> AgentState:\n",
    "    \"\"\"\n",
    "    Simple node that adds a skills message to the state.\n",
    "    \"\"\"\n",
    "    if state['skills']:\n",
    "        state['result'] = state['result'] + f\", and you have skills in {', '.join(state['skills'])}.\"\n",
    "    else:\n",
    "        state['result'] = state['result'] + \", and you have no skills listed.\"\n",
    "    return state"
   ]
  },
  {
   "cell_type": "code",
   "execution_count": 5,
   "id": "3365d289",
   "metadata": {},
   "outputs": [],
   "source": [
    "graph = StateGraph(AgentState)\n",
    "graph.add_node(\n",
    "    \"greeter\",  # node name\n",
    "    greeting_node,  # action function\n",
    ")\n",
    "graph.add_node(\n",
    "    \"ager\",  # node name\n",
    "    age_node,  # action function\n",
    ")\n",
    "graph.add_node(\n",
    "    \"skiller\",  # node name\n",
    "    skills_node,  # action function\n",
    ")\n",
    "graph.set_entry_point(\"greeter\")  # Set the entry point of the graph\n",
    "graph.add_edge(\"greeter\", \"ager\")  # Add an edge from greeter to age node\n",
    "graph.add_edge(\"ager\", \"skiller\")  # Add an edge from age to skills node\n",
    "graph.set_finish_point(\"skiller\")  # Set the finish point of the graph\n",
    "app = graph.compile()  # Compile the graph"
   ]
  },
  {
   "cell_type": "code",
   "execution_count": 6,
   "id": "f3299040",
   "metadata": {},
   "outputs": [
    {
     "data": {
      "image/png": "[encoded data removed]",
      "text/plain": [
       "<IPython.core.display.Image object>"
      ]
     },
     "metadata": {},
     "output_type": "display_data"
    }
   ],
   "source": [
    "from IPython.display import Image, display\n",
    "display(Image(app.get_graph().draw_mermaid_png()))  # Display the graph image"
   ]
  },
  {
   "cell_type": "code",
   "execution_count": 7,
   "id": "4d2e17d3",
   "metadata": {},
   "outputs": [
    {
     "name": "stdout",
     "output_type": "stream",
     "text": [
      "Hi Veronica, you are 40 years old, and you have skills in Python, Machine Learning, LangGraph.\n"
     ]
    }
   ],
   "source": [
    "answer = app.invoke({\n",
    "    \"name\": \"Veronica\",\n",
    "    \"age\": \"40\",\n",
    "    \"skills\": [\"Python\", \"Machine Learning\",\"LangGraph\"]\n",
    "})  # Invoke the graph with initial state\n",
    "print(answer['result'])  # Access the final message from the state"
   ]
  },
  {
   "cell_type": "markdown",
   "id": "def36c9e",
   "metadata": {},
   "source": [
    "## Conditional Graph\n",
    "\n",
    "Conditional logic to route the flow of data to different nodes\n",
    "- Use **START** and **END** nodes to manage entry and exit point explicitly.\n",
    "- Desing multiple nodes to perform different operations (addition, subtraction)\n",
    "- Create a **router node** to handle decision-making and control flow\n",
    "\n",
    "**GOAL**: Use add_contitional_edges()\n"
   ]
  },
  {
   "cell_type": "code",
   "execution_count": 9,
   "id": "dcf1ef47",
   "metadata": {},
   "outputs": [],
   "source": [
    "from typing import TypedDict\n",
    "from langgraph.graph import StateGraph, START, END\n",
    "\n",
    "# State Schema\n",
    "class AgentState(TypedDict):\n",
    "    \"\"\"\n",
    "    Agent state that is shared across the graph.\n",
    "    \"\"\"\n",
    "    number1: int\n",
    "    number2: int\n",
    "    operation: str\n",
    "    finalNumber:int"
   ]
  },
  {
   "cell_type": "code",
   "execution_count": 14,
   "id": "8f2601e5",
   "metadata": {},
   "outputs": [],
   "source": [
    "def adder(state: AgentState) -> AgentState:\n",
    "    \"\"\"\n",
    "    Node that adds two numbers.\n",
    "    \"\"\"\n",
    "    state['finalNumber'] = state['number1'] + state['number2']\n",
    "    return state\n",
    "def subtractor(state: AgentState) -> AgentState:\n",
    "    \"\"\"\n",
    "    Node that subtract two numbers.\n",
    "    \"\"\"\n",
    "    state['finalNumber'] = state['number1'] - state['number2']\n",
    "    return state\n",
    "\n",
    "def decide_next_node(state: AgentState) -> str:\n",
    "    \"\"\"\n",
    "    Node that decides which operation to perform based on the input.\n",
    "    \"\"\"\n",
    "    if state['operation'] == '+':\n",
    "        return 'addition_operation'\n",
    "    elif state['operation'] == '-':\n",
    "        return 'subtraction_operation'\n",
    "    else:\n",
    "        raise ValueError(\"Invalid operation. Use 'add' or 'subtract'.\")"
   ]
  },
  {
   "cell_type": "code",
   "execution_count": 19,
   "id": "871fbaa9",
   "metadata": {},
   "outputs": [],
   "source": [
    "graph = StateGraph(AgentState)\n",
    "graph.add_node(\n",
    "    \"router\",  # node name\n",
    "    lambda state:state,  # pass-through function\n",
    ")\n",
    "graph.add_node(\n",
    "    \"add_node\",  # node name\n",
    "    adder,  # action function\n",
    ")\n",
    "graph.add_node(\n",
    "    \"subtract_node\",  # node name\n",
    "    subtractor,  # action function\n",
    ")\n",
    "\n",
    "graph.add_edge(START, \"router\")  # Set the entry point of the graph\n",
    "\n",
    "graph.add_conditional_edges(\n",
    "    \"router\",  # node name\n",
    "    decide_next_node,  # function to decide next node\n",
    "    {\n",
    "        # Edge: Node\n",
    "        'addition_operation': 'add_node',  # edge for addition operation\n",
    "        'subtraction_operation': 'subtract_node',  # edge for subtraction operation\n",
    "    }\n",
    ")\n",
    "graph.add_edge(\"add_node\", END)  # Set the finish point for addition\n",
    "graph.add_edge(\"subtract_node\", END)  # Set the finish point for subtraction\n",
    "app = graph.compile()  # Compile the graph\n",
    "\n"
   ]
  },
  {
   "cell_type": "code",
   "execution_count": 20,
   "id": "fc1b19fa",
   "metadata": {},
   "outputs": [
    {
     "data": {
      "image/png": "[encoded data removed]",
      "text/plain": [
       "<IPython.core.display.Image object>"
      ]
     },
     "metadata": {},
     "output_type": "display_data"
    }
   ],
   "source": [
    "from IPython.display import Image, display\n",
    "display(Image(app.get_graph().draw_mermaid_png()))  # Display the graph image"
   ]
  },
  {
   "cell_type": "markdown",
   "id": "47794e46",
   "metadata": {},
   "source": [
    "## Exercise Graph with 2 conditional nodes\n",
    "\n",
    "**input**: initial_state = AgentState(number1=10, operation=\"-\", number2=5, number3=7,number4=2,operation2=\"+\",finalNumber=0, finalNumber2=0)"
   ]
  },
  {
   "cell_type": "code",
   "execution_count": 21,
   "id": "49b48087",
   "metadata": {},
   "outputs": [],
   "source": [
    "from typing import TypedDict, List\n",
    "from langgraph.graph import StateGraph, START, END\n",
    "\n",
    "# State Schema\n",
    "class AgentState(TypedDict):\n",
    "    \"\"\"\n",
    "    Agent state that is shared across the graph.\n",
    "    \"\"\"\n",
    "    number1: int\n",
    "    number2: int\n",
    "    operation: str\n",
    "    result: int\n",
    "    number3: int\n",
    "    number4: int\n",
    "    operation2: str\n",
    "    result2: int\n",
    "\n",
    "# action functions\n",
    "def adder(state: AgentState) -> AgentState:\n",
    "    \"\"\"\n",
    "    Node that adds two numbers.\n",
    "    \"\"\"\n",
    "    state['result'] = state['number1'] + state['number2']\n",
    "    return state\n",
    "def subtractor(state: AgentState) -> AgentState:\n",
    "    \"\"\"\n",
    "    Node that subtract two numbers.\n",
    "    \"\"\"\n",
    "    state['result'] = state['number1'] - state['number2']\n",
    "    return state\n",
    "\n",
    "def decide_next_node(state: AgentState) -> str:\n",
    "    \"\"\"\n",
    "    Node that decides which operation to perform based on the input.\n",
    "    \"\"\"\n",
    "    if state['operation'] == '+':\n",
    "        return 'addition_operation'\n",
    "    elif state['operation'] == '-':\n",
    "        return 'subtraction_operation'\n",
    "    else:\n",
    "        raise ValueError(\"Invalid operation. Use '+' or '-'.\")\n",
    "\n",
    "def adder2(state: AgentState) -> AgentState:\n",
    "    \"\"\"\n",
    "    Node that adds two numbers.\n",
    "    \"\"\"\n",
    "    state['result2'] = state['number3'] + state['number4']\n",
    "    return state\n",
    "def subtractor2(state: AgentState) -> AgentState:\n",
    "    \"\"\"\n",
    "    Node that subtract two numbers.\n",
    "    \"\"\"\n",
    "    state['result2'] = state['number3'] - state['number4']\n",
    "    return state\n",
    "def decide_next_node2(state: AgentState) -> str:\n",
    "    \"\"\"\n",
    "    Node that decides which operation to perform based on the input.\n",
    "    \"\"\"\n",
    "    if state['operation2'] == '+':\n",
    "        return 'addition_operation2'\n",
    "    elif state['operation2'] == '-':\n",
    "        return 'subtraction_operation2'\n",
    "    else:\n",
    "        raise ValueError(\"Invalid operation. Use '+' or '-'.\")"
   ]
  },
  {
   "cell_type": "code",
   "execution_count": 24,
   "id": "6cc883a7",
   "metadata": {},
   "outputs": [],
   "source": [
    "graph = StateGraph(AgentState)\n",
    "\n",
    "graph.add_node(\n",
    "    \"router\",  # node name\n",
    "    lambda state: state,  # pass-through function\n",
    ")\n",
    "graph.add_node(\n",
    "    \"add_node\",  # node name\n",
    "    adder,  # action function\n",
    ")\n",
    "graph.add_node(\n",
    "    \"subtract_node\",  # node name\n",
    "    subtractor,  # action function\n",
    ")\n",
    "graph.add_node(\n",
    "    \"router2\",  # node name\n",
    "    lambda state: state,  # pass-through function\n",
    ")\n",
    "graph.add_node(\n",
    "    \"add_node2\",  # node name\n",
    "    adder2,  # action function\n",
    ")\n",
    "graph.add_node(\n",
    "    \"subtract_node2\",  # node name\n",
    "    subtractor2,  # action function\n",
    ")\n",
    "graph.add_edge(START, \"router\")  # Set the entry point of the graph\n",
    "graph.add_conditional_edges(\n",
    "    \"router\",  # node name\n",
    "    decide_next_node,  # function to decide next node\n",
    "    {\n",
    "        # Edge: Node\n",
    "        'addition_operation': 'add_node',  # edge for addition operation\n",
    "        'subtraction_operation': 'subtract_node',  # edge for subtraction operation\n",
    "    }\n",
    ")\n",
    "graph.add_edge(\"add_node\", \"router2\")  # Set the finish point for addition\n",
    "graph.add_edge(\"subtract_node\", \"router2\")  # Set the finish point for subtraction\n",
    "graph.add_conditional_edges(\n",
    "    \"router2\",  # node name\n",
    "    decide_next_node2,  # function to decide next node\n",
    "    {\n",
    "        # Edge: Node\n",
    "        'addition_operation2': 'add_node2',  # edge for addition operation\n",
    "        'subtraction_operation2': 'subtract_node2',  # edge for subtraction operation\n",
    "    }\n",
    ")\n",
    "graph.add_edge(\"add_node2\", END)  # Set the finish point for addition\n",
    "graph.add_edge(\"subtract_node2\", END)  # Set the finish point for subtraction\n",
    "app = graph.compile()  # Compile the graph"
   ]
  },
  {
   "cell_type": "code",
   "execution_count": 25,
   "id": "732c499d",
   "metadata": {},
   "outputs": [
    {
     "data": {
      "image/png": "[encoded data removed]",
      "text/plain": [
       "<IPython.core.display.Image object>"
      ]
     },
     "metadata": {},
     "output_type": "display_data"
    }
   ],
   "source": [
    "from IPython.display import Image, display\n",
    "display(Image(app.get_graph().draw_mermaid_png()))  # Display the graph image"
   ]
  },
  {
   "cell_type": "code",
   "execution_count": 27,
   "id": "9fff0576",
   "metadata": {},
   "outputs": [
    {
     "name": "stdout",
     "output_type": "stream",
     "text": [
      "15\n",
      "10\n"
     ]
    },
    {
     "data": {
      "text/plain": [
       "{'number1': 10,\n",
       " 'number2': 5,\n",
       " 'operation': '+',\n",
       " 'result': 15,\n",
       " 'number3': 20,\n",
       " 'number4': 10,\n",
       " 'operation2': '-',\n",
       " 'result2': 10}"
      ]
     },
     "execution_count": 27,
     "metadata": {},
     "output_type": "execute_result"
    }
   ],
   "source": [
    "response = app.invoke({\n",
    "    \"number1\": 10,\n",
    "    \"number2\": 5,\n",
    "    \"operation\": \"+\",\n",
    "    \"number3\": 20,\n",
    "    \"number4\": 10,\n",
    "    \"operation2\": \"-\"\n",
    "})  # Invoke the graph with initial state\n",
    "\n",
    "print(response['result'])  # Access the result from the first operation\n",
    "print(response['result2'])  # Access the result from the second operation\n",
    "response"
   ]
  },
  {
   "cell_type": "markdown",
   "id": "0178a588",
   "metadata": {},
   "source": [
    "## Last Graph - Looping Graph\n",
    "- Implement looping logic to route the flow of data back to nodes\n",
    "- Create a single conditional edge to handle decision-making and control graph flow\n",
    "\n",
    "![](image/loppong.png)"
   ]
  },
  {
   "cell_type": "code",
   "execution_count": 2,
   "id": "981d4d94",
   "metadata": {},
   "outputs": [],
   "source": [
    "from langgraph.graph import StateGraph, END\n",
    "import random\n",
    "from typing import Dict, List, TypedDict\n",
    "\n",
    "# State Schema\n",
    "class AgentState(TypedDict):\n",
    "    \"\"\"\n",
    "    Agent state that is shared across the graph.\n",
    "    \"\"\"\n",
    "    name: str\n",
    "    number: List[int]\n",
    "    counter: int\n",
    "    "
   ]
  },
  {
   "cell_type": "code",
   "execution_count": 3,
   "id": "66768de6",
   "metadata": {},
   "outputs": [],
   "source": [
    "# node functions\n",
    "def greeting_node(state: AgentState) -> AgentState:\n",
    "    \"\"\"\n",
    "    Node that greets the user.\n",
    "    \"\"\"\n",
    "    state['name'] = f\"Hello {state['name']}!\"\n",
    "    state['counter'] = 0\n",
    "\n",
    "    return state\n",
    "\n",
    "def random_number_node(state: AgentState) -> AgentState:\n",
    "    \"\"\"\n",
    "    Node that generates a random number and adds it to the state.\n",
    "    \"\"\"\n",
    "    state['number'].append(random.randint(1, 10))\n",
    "    state['counter'] += 1\n",
    "\n",
    "    return state\n",
    "\n",
    "def should_continue(state: AgentState) -> str:\n",
    "    \"\"\"\n",
    "    Node that decides whether to continue or finish based on the counter.\n",
    "    \"\"\"\n",
    "    if state['counter'] < 5:\n",
    "        print(\"Entering LOOP, state['counter']:\", state['counter'])\n",
    "\n",
    "        return \"loop\" # continue looping\n",
    "    else:\n",
    "        return \"exit\"  # exit the loop"
   ]
  },
  {
   "cell_type": "code",
   "execution_count": null,
   "id": "1d5faa5f",
   "metadata": {},
   "outputs": [],
   "source": [
    "# create the graph\n",
    "graph = StateGraph(AgentState)\n",
    "graph.add_node(\n",
    "    \"greeting\",  # node name\n",
    "    greeting_node,  # action function\n",
    ")\n",
    "graph.add_node(\n",
    "    \"random_number\",  # node name\n",
    "    random_number_node,  # action function\n",
    ")\n",
    "graph.set_entry_point(\"greeting\")  # Set the entry point of the graph\n",
    "graph.add_edge(\"greeting\", \"random_number\")  # Add an edge from greeting to random_number node\n",
    "\n",
    "graph.add_conditional_edges(\n",
    "    \"random_number\",  # node name\n",
    "    should_continue,  # function to decide next node\n",
    "    {\n",
    "        # Edge: Node\n",
    "        \"loop\": \"random_number\",  # continue looping\n",
    "        \"exit\": END,  # exit the loop\n",
    "    }\n",
    ")\n",
    "app = graph.compile()  # Compile the graph\n"
   ]
  },
  {
   "cell_type": "code",
   "execution_count": 5,
   "id": "53360a37",
   "metadata": {},
   "outputs": [
    {
     "data": {
      "image/png": "[encoded data removed]",
      "text/plain": [
       "<IPython.core.display.Image object>"
      ]
     },
     "metadata": {},
     "output_type": "display_data"
    }
   ],
   "source": [
    "from IPython.display import Image, display\n",
    "display(Image(app.get_graph().draw_mermaid_png()))  # Display the graph image"
   ]
  },
  {
   "cell_type": "code",
   "execution_count": 13,
   "id": "24373dd6",
   "metadata": {},
   "outputs": [
    {
     "name": "stdout",
     "output_type": "stream",
     "text": [
      "Entering LOOP, state['counter']: 1\n",
      "Entering LOOP, state['counter']: 2\n",
      "Entering LOOP, state['counter']: 3\n",
      "Entering LOOP, state['counter']: 4\n"
     ]
    }
   ],
   "source": [
    "answer = app.invoke({\"name\": \"Veronica\", \"number\": [], \"counter\":-1})  # Invoke the graph with initial state"
   ]
  },
  {
   "cell_type": "code",
   "execution_count": 14,
   "id": "dab18520",
   "metadata": {},
   "outputs": [
    {
     "data": {
      "text/plain": [
       "{'name': 'Hello Veronica!', 'number': [4, 1, 6, 6, 10], 'counter': 5}"
      ]
     },
     "execution_count": 14,
     "metadata": {},
     "output_type": "execute_result"
    }
   ],
   "source": [
    "answer"
   ]
  },
  {
   "cell_type": "code",
   "execution_count": 15,
   "id": "2995cdac",
   "metadata": {},
   "outputs": [
    {
     "name": "stdout",
     "output_type": "stream",
     "text": [
      "[4, 1, 6, 6, 10]\n"
     ]
    }
   ],
   "source": [
    "print(answer['number'])  # View generated random numbers"
   ]
  },
  {
   "cell_type": "markdown",
   "id": "e4c1f18b",
   "metadata": {},
   "source": [
    "## Exercise Looping\n",
    "![](image/exercise_graph_5.png)\n",
    "\n",
    "Realizzare il grafico dell'immagine, implementando **Automatic Higher or Lower Game**\n",
    "\n",
    "Set the bounds to between 1 to 20. The graph has to keep guessing (**max number of guesses is 7) where the guess is correct, then it stops, but if not we keep looping until we hit the max limit of 7.\n",
    "\n",
    "Each time a number is guessed, the **hint node should say higher or lower** and the graph should account for this information and guess the next guess accordingly.\n",
    "\n",
    "**Input**: {\"player_name\":\"Student\", \"guesses\":[],\"attempts\":0, \"lower_bound\":1, \"upper_bound\":20}\n",
    "\n",
    "**Hint** it will need to adjust its bounds after every guess based on the hint provided by the hint node."
   ]
  },
  {
   "cell_type": "code",
   "execution_count": 16,
   "id": "d69ba356",
   "metadata": {},
   "outputs": [],
   "source": [
    "from typing import TypedDict, List\n",
    "from langgraph.graph import StateGraph, END\n",
    "\n",
    "# State Schema\n",
    "class AgentState(TypedDict):\n",
    "    \"\"\"\n",
    "    Agent state that is shared across the graph.\n",
    "    \"\"\"\n",
    "    player_name: str\n",
    "    guesses: List[int]\n",
    "    attempts: int\n",
    "    lower_bound: int\n",
    "    upper_bound: int\n",
    "    target_number: int\n",
    "    hint: str\n",
    "\n",
    "# Node functions\n",
    "def setup_game(state: AgentState) -> AgentState:\n",
    "    \"\"\"\n",
    "    Node that sets up the game with initial values.\n",
    "    \"\"\"\n",
    "    state['player_name'] = f\"Welcome {state['player_name']}!\"\n",
    "    state['target_number'] = random.randint(state['lower_bound'], state['upper_bound'])\n",
    "    state['guesses'] = []\n",
    "    state['attempts'] = 0\n",
    "    state['hint'] = f\"Game started! Guess a number between {state['lower_bound']} and {state['upper_bound']}.\"\n",
    "    state['lower_bound'] = 1\n",
    "    state['upper_bound'] = 20\n",
    "    \n",
    "    print(f\"Random number generated: {state['target_number']}\")  # For debugging purposes\n",
    "    \n",
    "    return state\n",
    "\n",
    "def make_guess(state: AgentState) -> AgentState:\n",
    "    \"\"\"\n",
    "    Node that processes the player's guess.\n",
    "    \"\"\"\n",
    "    possible_guesses = [i for i in range(state['lower_bound'], state['upper_bound'] + 1) if i not in state['guesses']]\n",
    "\n",
    "    if possible_guesses:\n",
    "        guess = random.choice(possible_guesses)\n",
    "    else:\n",
    "        guess = random.randint(state['lower_bound'], state['upper_bound'])\n",
    "    state['guesses'].append(guess)\n",
    "    state['attempts'] += 1\n",
    "    print(f\"Attempt {state['attempts']}: Guessing {guess} (Current range: {state['lower_bound']}-{state['upper_bound']})\")  # For debugging purposes\n",
    "\n",
    "    return state\n",
    "\n",
    "def hint_node(state: AgentState) -> AgentState:\n",
    "    \"\"\"\n",
    "    Node that provides a hint based on the player's guess.\n",
    "    \"\"\"\n",
    "    latest_guess = state['guesses'][-1]\n",
    "    target = state['target_number']\n",
    "    if latest_guess < target:\n",
    "        state['hint'] = f\"Your guess {latest_guess} is too low! Try a higher number.\"\n",
    "        state['lower_bound'] = max(state['lower_bound'], latest_guess + 1)\n",
    "        print(f\"Hint: {state['hint']} (New lower bound: {state['lower_bound']})\")  # For debugging purposes\n",
    "    elif latest_guess > target:\n",
    "        state['hint'] = f\"Your guess {latest_guess} is too high! Try a lower number.\"\n",
    "        state['upper_bound'] = min(state['upper_bound'], latest_guess - 1)\n",
    "        print(f\"Hint: {state['hint']} (New upper bound: {state['upper_bound']})\")\n",
    "    else:\n",
    "        state['hint'] = f\"Congratulations {state['player_name']}! You've guessed the number {target} in {state['attempts']} attempts!\"\n",
    "        print(state['hint'])\n",
    "   \n",
    "    return state\n",
    "\n",
    "def should_continue(state: AgentState) -> str:\n",
    "    \"\"\"\n",
    "    Node that decides whether to continue or finish based on the player's guess.\n",
    "    \"\"\"\n",
    "    latest_guess = state['guesses'][-1]\n",
    "    if latest_guess == state ['target_number']:\n",
    "        print(\"Exiting game, player guessed the number!\")\n",
    "        return \"end\"  # exit the game\n",
    "    elif state['attempts'] >=7:\n",
    "        state['hint'] = f\"Sorry {state['player_name']}, you've used all your attempts! The number was {state['target_number']}.\"\n",
    "        print(state['hint'])\n",
    "        return \"end\"\n",
    "    else:\n",
    "        print(f\"Continuing game, player has not guessed the number yet. {state['attempts']}/7 attempts made.\")\n",
    "        return \"continue\""
   ]
  },
  {
   "cell_type": "code",
   "execution_count": 25,
   "id": "6233cafb",
   "metadata": {},
   "outputs": [],
   "source": [
    "graph = StateGraph(AgentState)\n",
    "graph.add_node(\n",
    "    \"setup\",  # node name\n",
    "    setup_game,  # action function\n",
    ")\n",
    "graph.add_node(\n",
    "    \"guess\",  # node name\n",
    "    make_guess,  # action function\n",
    ")\n",
    "graph.add_node(\n",
    "    \"clue\",  # node name\n",
    "    hint_node,  # action function\n",
    ")\n",
    "graph.set_entry_point(\"setup\")  # Set the entry point of the graph\n",
    "graph.add_edge(\"setup\", \"guess\")  # Add an edge from setup to guess node\n",
    "graph.add_edge(\"guess\", \"clue\")  # Add an edge from guess to clue node\n",
    "graph.add_conditional_edges(\n",
    "    \"clue\",  # node name\n",
    "    should_continue,  # function to decide next node\n",
    "    {\n",
    "        # Edge: Node\n",
    "        \"continue\": \"guess\",  # continue guessing\n",
    "        \"end\": END,  # end the game\n",
    "    }\n",
    ")\n",
    "\n",
    "app = graph.compile()  # Compile the graph"
   ]
  },
  {
   "cell_type": "code",
   "execution_count": 26,
   "id": "b3f1152e",
   "metadata": {},
   "outputs": [
    {
     "data": {
      "image/png": "[encoded data removed]",
      "text/plain": [
       "<IPython.core.display.Image object>"
      ]
     },
     "metadata": {},
     "output_type": "display_data"
    }
   ],
   "source": [
    "from IPython.display import Image, display\n",
    "display(Image(app.get_graph().draw_mermaid_png()))  # Display the graph image"
   ]
  },
  {
   "cell_type": "code",
   "execution_count": 27,
   "id": "f7d90c97",
   "metadata": {},
   "outputs": [
    {
     "name": "stdout",
     "output_type": "stream",
     "text": [
      "Random number generated: 13\n",
      "Attempt 1: Guessing 11 (Current range: 1-20)\n",
      "Hint: Your guess 11 is too low! Try a higher number. (New lower bound: 12)\n",
      "Continuing game, player has not guessed the number yet. 1/7 attempts made.\n",
      "Attempt 2: Guessing 18 (Current range: 12-20)\n",
      "Hint: Your guess 18 is too high! Try a lower number. (New upper bound: 17)\n",
      "Continuing game, player has not guessed the number yet. 2/7 attempts made.\n",
      "Attempt 3: Guessing 16 (Current range: 12-17)\n",
      "Hint: Your guess 16 is too high! Try a lower number. (New upper bound: 15)\n",
      "Continuing game, player has not guessed the number yet. 3/7 attempts made.\n",
      "Attempt 4: Guessing 13 (Current range: 12-15)\n",
      "Congratulations Welcome Alice!! You've guessed the number 13 in 4 attempts!\n",
      "Exiting game, player guessed the number!\n"
     ]
    }
   ],
   "source": [
    "result = app.invoke({\n",
    "    \"player_name\": \"Alice\",\n",
    "    \"guesses\": [],\n",
    "    \"attempts\": 0,\n",
    "    \"lower_bound\": 1,\n",
    "    \"upper_bound\": 20\n",
    "})"
   ]
  },
  {
   "cell_type": "code",
   "execution_count": null,
   "id": "98e22bc4",
   "metadata": {},
   "outputs": [],
   "source": []
  }
 ],
 "metadata": {
  "kernelspec": {
   "display_name": ".venv",
   "language": "python",
   "name": "python3"
  },
  "language_info": {
   "codemirror_mode": {
    "name": "ipython",
    "version": 3
   },
   "file_extension": ".py",
   "mimetype": "text/x-python",
   "name": "python",
   "nbconvert_exporter": "python",
   "pygments_lexer": "ipython3",
   "version": "3.10.11"
  }
 },
 "nbformat": 4,
 "nbformat_minor": 5
}
