{
 "cells": [
  {
   "cell_type": "markdown",
   "id": "9f659a1d",
   "metadata": {},
   "source": [
    "# Agent AGENT AGENT"
   ]
  },
  {
   "cell_type": "markdown",
   "id": "8d5087c4",
   "metadata": {},
   "source": [
    "# AI Agent file 01_Agent_bot.py\n",
    "- Define State structure with a list of HumanMessage objects\n",
    "- Initialize a GPT-4o model using LangChain's ChatOpenAI\n",
    "- Sending and handling different tyoe of messages\n",
    "- Building and compiling the graph of the Agent\n",
    "\n",
    "**GOAL** integrate LLMS in our Graphs\n",
    "\n",
    "Continuo nel file 01_Agent_Bot.py"
   ]
  },
  {
   "cell_type": "markdown",
   "id": "a3e29798",
   "metadata": {},
   "source": [
    "## AI Agent file 02_Agent_memory\n",
    "\n",
    "- Usermeo messaggi differenti **HumanMessage** e **AIMessage**\n",
    "- Manterremo uno storico della conversazione usando entrambi i tipi di messaggio\n",
    "- Useremo GPT-4o con Lanchain's ChatOpenAI\n",
    "- Creeremo un loop conversazionale\n",
    "\n",
    "**GOAL**: Memoria per il nostro agente\n",
    "\n",
    "Continuo nel file 02"
   ]
  },
  {
   "cell_type": "code",
   "execution_count": null,
   "id": "f3fba6ed",
   "metadata": {
    "vscode": {
     "languageId": "plaintext"
    }
   },
   "outputs": [],
   "source": []
  }
 ],
 "metadata": {
  "kernelspec": {
   "display_name": ".venv",
   "language": "python",
   "name": "python3"
  },
  "language_info": {
   "codemirror_mode": {
    "name": "ipython",
    "version": 3
   },
   "file_extension": ".py",
   "mimetype": "text/x-python",
   "name": "python",
   "nbconvert_exporter": "python",
   "pygments_lexer": "ipython3",
   "version": "3.10.11"
  }
 },
 "nbformat": 4,
 "nbformat_minor": 5
}
